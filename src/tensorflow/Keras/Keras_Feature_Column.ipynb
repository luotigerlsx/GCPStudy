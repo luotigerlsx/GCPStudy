{
 "cells": [
  {
   "cell_type": "code",
   "execution_count": 9,
   "metadata": {},
   "outputs": [],
   "source": [
    "import numpy as np\n",
    "import pandas as pd\n",
    "import scipy as sp\n",
    "import os\n",
    "import urllib\n",
    "import tarfile\n",
    "\n",
    "\n",
    "import tensorflow as tf\n",
    "from tensorflow import keras\n",
    "from tensorflow.keras import layers"
   ]
  },
  {
   "cell_type": "code",
   "execution_count": 10,
   "metadata": {},
   "outputs": [],
   "source": [
    "DOWNLOAD_ROOT = \"https://raw.githubusercontent.com/ageron/handson-ml/master/\"\n",
    "HOUSING_PATH = \"datasets/housing\"\n",
    "HOUSING_URL = DOWNLOAD_ROOT + HOUSING_PATH + \"/housing.tgz\"\n",
    "def fetch_housing_data(housing_url=HOUSING_URL, housing_path=HOUSING_PATH):\n",
    "    if not os.path.isdir(housing_path):\n",
    "        os.makedirs(housing_path)\n",
    "    tgz_path = os.path.join(housing_path, \"housing.tgz\")\n",
    "    urllib.request.urlretrieve(housing_url, tgz_path)\n",
    "    housing_tgz = tarfile.open(tgz_path)\n",
    "    housing_tgz.extractall(path=housing_path)\n",
    "    housing_tgz.close()\n",
    "fetch_housing_data()"
   ]
  },
  {
   "cell_type": "code",
   "execution_count": 11,
   "metadata": {},
   "outputs": [],
   "source": [
    "def load_housing_data(housing_path=HOUSING_PATH):\n",
    "    csv_path = os.path.join(housing_path, \"housing.csv\")\n",
    "    return pd.read_csv(csv_path)"
   ]
  },
  {
   "cell_type": "code",
   "execution_count": 12,
   "metadata": {},
   "outputs": [],
   "source": [
    "housing = load_housing_data()"
   ]
  },
  {
   "cell_type": "code",
   "execution_count": 13,
   "metadata": {},
   "outputs": [],
   "source": [
    "housing.dropna(inplace=True)"
   ]
  },
  {
   "cell_type": "code",
   "execution_count": 14,
   "metadata": {
    "scrolled": true
   },
   "outputs": [
    {
     "data": {
      "text/html": [
       "<div>\n",
       "<style scoped>\n",
       "    .dataframe tbody tr th:only-of-type {\n",
       "        vertical-align: middle;\n",
       "    }\n",
       "\n",
       "    .dataframe tbody tr th {\n",
       "        vertical-align: top;\n",
       "    }\n",
       "\n",
       "    .dataframe thead th {\n",
       "        text-align: right;\n",
       "    }\n",
       "</style>\n",
       "<table border=\"1\" class=\"dataframe\">\n",
       "  <thead>\n",
       "    <tr style=\"text-align: right;\">\n",
       "      <th></th>\n",
       "      <th>longitude</th>\n",
       "      <th>latitude</th>\n",
       "      <th>housing_median_age</th>\n",
       "      <th>total_rooms</th>\n",
       "      <th>total_bedrooms</th>\n",
       "      <th>population</th>\n",
       "      <th>households</th>\n",
       "      <th>median_income</th>\n",
       "      <th>median_house_value</th>\n",
       "      <th>ocean_proximity</th>\n",
       "    </tr>\n",
       "  </thead>\n",
       "  <tbody>\n",
       "    <tr>\n",
       "      <th>0</th>\n",
       "      <td>-122.23</td>\n",
       "      <td>37.88</td>\n",
       "      <td>41.0</td>\n",
       "      <td>880.0</td>\n",
       "      <td>129.0</td>\n",
       "      <td>322.0</td>\n",
       "      <td>126.0</td>\n",
       "      <td>8.3252</td>\n",
       "      <td>452600.0</td>\n",
       "      <td>NEAR BAY</td>\n",
       "    </tr>\n",
       "    <tr>\n",
       "      <th>1</th>\n",
       "      <td>-122.22</td>\n",
       "      <td>37.86</td>\n",
       "      <td>21.0</td>\n",
       "      <td>7099.0</td>\n",
       "      <td>1106.0</td>\n",
       "      <td>2401.0</td>\n",
       "      <td>1138.0</td>\n",
       "      <td>8.3014</td>\n",
       "      <td>358500.0</td>\n",
       "      <td>NEAR BAY</td>\n",
       "    </tr>\n",
       "    <tr>\n",
       "      <th>2</th>\n",
       "      <td>-122.24</td>\n",
       "      <td>37.85</td>\n",
       "      <td>52.0</td>\n",
       "      <td>1467.0</td>\n",
       "      <td>190.0</td>\n",
       "      <td>496.0</td>\n",
       "      <td>177.0</td>\n",
       "      <td>7.2574</td>\n",
       "      <td>352100.0</td>\n",
       "      <td>NEAR BAY</td>\n",
       "    </tr>\n",
       "    <tr>\n",
       "      <th>3</th>\n",
       "      <td>-122.25</td>\n",
       "      <td>37.85</td>\n",
       "      <td>52.0</td>\n",
       "      <td>1274.0</td>\n",
       "      <td>235.0</td>\n",
       "      <td>558.0</td>\n",
       "      <td>219.0</td>\n",
       "      <td>5.6431</td>\n",
       "      <td>341300.0</td>\n",
       "      <td>NEAR BAY</td>\n",
       "    </tr>\n",
       "    <tr>\n",
       "      <th>4</th>\n",
       "      <td>-122.25</td>\n",
       "      <td>37.85</td>\n",
       "      <td>52.0</td>\n",
       "      <td>1627.0</td>\n",
       "      <td>280.0</td>\n",
       "      <td>565.0</td>\n",
       "      <td>259.0</td>\n",
       "      <td>3.8462</td>\n",
       "      <td>342200.0</td>\n",
       "      <td>NEAR BAY</td>\n",
       "    </tr>\n",
       "  </tbody>\n",
       "</table>\n",
       "</div>"
      ],
      "text/plain": [
       "   longitude  latitude  housing_median_age  total_rooms  total_bedrooms  \\\n",
       "0    -122.23     37.88                41.0        880.0           129.0   \n",
       "1    -122.22     37.86                21.0       7099.0          1106.0   \n",
       "2    -122.24     37.85                52.0       1467.0           190.0   \n",
       "3    -122.25     37.85                52.0       1274.0           235.0   \n",
       "4    -122.25     37.85                52.0       1627.0           280.0   \n",
       "\n",
       "   population  households  median_income  median_house_value ocean_proximity  \n",
       "0       322.0       126.0         8.3252            452600.0        NEAR BAY  \n",
       "1      2401.0      1138.0         8.3014            358500.0        NEAR BAY  \n",
       "2       496.0       177.0         7.2574            352100.0        NEAR BAY  \n",
       "3       558.0       219.0         5.6431            341300.0        NEAR BAY  \n",
       "4       565.0       259.0         3.8462            342200.0        NEAR BAY  "
      ]
     },
     "execution_count": 14,
     "metadata": {},
     "output_type": "execute_result"
    }
   ],
   "source": [
    "housing.head()"
   ]
  },
  {
   "cell_type": "code",
   "execution_count": 25,
   "metadata": {},
   "outputs": [],
   "source": [
    "input_fn = tf.estimator.inputs.pandas_input_fn(\n",
    "    x=housing[['housing_median_age', 'total_rooms', 'total_bedrooms', \n",
    "               'population', 'households', 'median_income']],\n",
    "    y=housing['median_house_value'],\n",
    "    batch_size=128,\n",
    "    num_epochs=2,\n",
    "    shuffle=False,\n",
    "    queue_capacity=1000,\n",
    "    num_threads=1,\n",
    "    target_column='median_house_value'\n",
    ")"
   ]
  },
  {
   "cell_type": "code",
   "execution_count": 16,
   "metadata": {},
   "outputs": [],
   "source": [
    "housing_median_age = tf.feature_column.numeric_column(\"housing_median_age\")\n",
    "total_rooms = tf.feature_column.numeric_column(\"total_rooms\")\n",
    "total_bedrooms = tf.feature_column.numeric_column(\"total_bedrooms\")\n",
    "population = tf.feature_column.numeric_column(\"population\")\n",
    "households = tf.feature_column.numeric_column(\"households\")\n",
    "median_income = tf.feature_column.numeric_column(\"median_income\")\n",
    "\n",
    "feature_columns = [\n",
    "    housing_median_age, total_rooms, total_bedrooms,\n",
    "    population, households, median_income\n",
    "]"
   ]
  },
  {
   "cell_type": "code",
   "execution_count": 17,
   "metadata": {},
   "outputs": [],
   "source": [
    "def make_model_fn(features, labels, mode, params, config):\n",
    "    # Creates the input layer starting from the feature definitions of above\n",
    "    input_layer = tf.feature_column.input_layer(\n",
    "        features=features,\n",
    "        feature_columns=feature_columns\n",
    "    )\n",
    "\n",
    "    # Get the global step\n",
    "    global_step = tf.contrib.framework.get_or_create_global_step()\n",
    "\n",
    "    model = keras.Sequential()\n",
    "    # Adds a densely-connected layer with 64 units to the model:\n",
    "    model.add(keras.layers.Dense(64, activation='relu'))\n",
    "    # Add another:\n",
    "    model.add(keras.layers.Dense(64, activation='relu'))\n",
    "    # Add a output layer with 1 output units:\n",
    "    model.add(keras.layers.Dense(1))\n",
    "\n",
    "\n",
    "    # Now that we have our model we can compute the value of the logits \n",
    "    logits = model(input_layer)\n",
    "    \n",
    "    def _train_op_fn(loss):\n",
    "        \"\"\"Returns the op to optimize the loss.\"\"\"\n",
    "        \n",
    "        optimizer = tf.train.AdamOptimizer()\n",
    "\n",
    "        # Create training operation\n",
    "        train_op = optimizer.minimize(\n",
    "            loss=loss, global_step=tf.train.get_global_step())\n",
    "\n",
    "        return train_op\n",
    "    \n",
    "    \n",
    "    head = tf.contrib.estimator.regression_head(\n",
    "            label_dimension=1,\n",
    "            name='regression_head'\n",
    "        )\n",
    "    \n",
    "    return head.create_estimator_spec(\n",
    "            features,\n",
    "            mode,\n",
    "            logits,\n",
    "            labels=labels,\n",
    "            train_op_fn=_train_op_fn\n",
    "        )"
   ]
  },
  {
   "cell_type": "code",
   "execution_count": 18,
   "metadata": {},
   "outputs": [],
   "source": [
    "def metric_fn(labels, predictions):\n",
    "\n",
    "    metrics = {}\n",
    "\n",
    "    pred_values = predictions['predictions']\n",
    "\n",
    "    metrics[\"mae\"] = tf.metrics.mean_absolute_error(labels, pred_values)\n",
    "    metrics[\"rmse\"] = tf.metrics.root_mean_squared_error(labels, pred_values)\n",
    "\n",
    "    return metrics"
   ]
  },
  {
   "cell_type": "code",
   "execution_count": 19,
   "metadata": {},
   "outputs": [],
   "source": [
    "def create_estimator(model_fn, metric_fn, run_config, hparams):\n",
    "    \n",
    "    estimator = tf.estimator.Estimator(\n",
    "        model_fn=model_fn, \n",
    "        config=run_config,\n",
    "        params=hparams\n",
    "    )\n",
    "    \n",
    "    \n",
    "    estimator = tf.contrib.estimator.add_metrics(estimator, metric_fn)\n",
    "    \n",
    "    return estimator"
   ]
  },
  {
   "cell_type": "code",
   "execution_count": null,
   "metadata": {},
   "outputs": [],
   "source": []
  },
  {
   "cell_type": "code",
   "execution_count": 21,
   "metadata": {},
   "outputs": [],
   "source": [
    "import shutil\n",
    "# shutil.rmtree('/tmp/model_dir')"
   ]
  },
  {
   "cell_type": "code",
   "execution_count": 27,
   "metadata": {},
   "outputs": [
    {
     "name": "stdout",
     "output_type": "stream",
     "text": [
      "INFO:tensorflow:Using config: {'_keep_checkpoint_max': 5, '_master': '', '_evaluation_master': '', '_is_chief': True, '_save_summary_steps': 100, '_cluster_spec': <tensorflow.python.training.server_lib.ClusterSpec object at 0x129f5d4a8>, '_service': None, '_model_dir': '/tmp/model_dir', '_task_type': 'worker', '_log_step_count_steps': 100, '_train_distribute': None, '_num_worker_replicas': 1, '_tf_random_seed': None, '_save_checkpoints_secs': 600, '_keep_checkpoint_every_n_hours': 10000, '_task_id': 0, '_num_ps_replicas': 0, '_global_id_in_cluster': 0, '_session_config': None, '_device_fn': None, '_save_checkpoints_steps': None}\n",
      "INFO:tensorflow:Using config: {'_task_type': 'worker', '_master': '', '_evaluation_master': '', '_is_chief': True, '_train_distribute': None, '_save_summary_steps': 100, '_cluster_spec': <tensorflow.python.training.server_lib.ClusterSpec object at 0x128eb7748>, '_model_dir': '/tmp/model_dir', '_service': None, '_log_step_count_steps': 100, '_num_worker_replicas': 1, '_keep_checkpoint_max': 5, '_tf_random_seed': None, '_save_checkpoints_secs': 600, '_keep_checkpoint_every_n_hours': 10000, '_task_id': 0, '_num_ps_replicas': 0, '_global_id_in_cluster': 0, '_session_config': None, '_device_fn': None, '_save_checkpoints_steps': None}\n"
     ]
    }
   ],
   "source": [
    "run_config = tf.estimator.RunConfig()\n",
    "run_config = run_config.replace(model_dir='/tmp/model_dir')\n",
    "hparams = tf.contrib.training.HParams(\n",
    "    learning_rate=.1,\n",
    ")\n",
    "estimator = create_estimator(model_fn=make_model_fn, metric_fn=metric_fn, run_config=run_config, hparams=hparams)"
   ]
  },
  {
   "cell_type": "code",
   "execution_count": 28,
   "metadata": {
    "scrolled": false
   },
   "outputs": [
    {
     "name": "stdout",
     "output_type": "stream",
     "text": [
      "INFO:tensorflow:Calling model_fn.\n",
      "INFO:tensorflow:Calling model_fn.\n",
      "INFO:tensorflow:Done calling model_fn.\n",
      "INFO:tensorflow:Done calling model_fn.\n",
      "INFO:tensorflow:Create CheckpointSaverHook.\n",
      "INFO:tensorflow:Graph was finalized.\n",
      "INFO:tensorflow:Restoring parameters from /tmp/model_dir/model.ckpt-10\n",
      "INFO:tensorflow:Running local_init_op.\n",
      "INFO:tensorflow:Done running local_init_op.\n",
      "INFO:tensorflow:Saving checkpoints for 10 into /tmp/model_dir/model.ckpt.\n",
      "INFO:tensorflow:loss = 41785100000.0, step = 11\n",
      "INFO:tensorflow:global_step/sec: 360.108\n",
      "INFO:tensorflow:loss = 16181228000.0, step = 111 (0.279 sec)\n",
      "INFO:tensorflow:global_step/sec: 356.471\n",
      "INFO:tensorflow:loss = 92185030000.0, step = 211 (0.283 sec)\n",
      "INFO:tensorflow:global_step/sec: 422.897\n",
      "INFO:tensorflow:loss = 58363593000.0, step = 311 (0.233 sec)\n",
      "INFO:tensorflow:Saving checkpoints for 330 into /tmp/model_dir/model.ckpt.\n",
      "INFO:tensorflow:Loss for final step: 7228261000.0.\n"
     ]
    },
    {
     "data": {
      "text/plain": [
       "<tensorflow.python.estimator.estimator.Estimator at 0x129f5d5f8>"
      ]
     },
     "execution_count": 28,
     "metadata": {},
     "output_type": "execute_result"
    }
   ],
   "source": [
    "estimator.train(input_fn=input_fn, steps=1000)"
   ]
  },
  {
   "cell_type": "code",
   "execution_count": null,
   "metadata": {},
   "outputs": [],
   "source": []
  },
  {
   "cell_type": "code",
   "execution_count": null,
   "metadata": {},
   "outputs": [],
   "source": []
  }
 ],
 "metadata": {
  "kernelspec": {
   "display_name": "Python 3",
   "language": "python",
   "name": "python3"
  },
  "language_info": {
   "codemirror_mode": {
    "name": "ipython",
    "version": 3
   },
   "file_extension": ".py",
   "mimetype": "text/x-python",
   "name": "python",
   "nbconvert_exporter": "python",
   "pygments_lexer": "ipython3",
   "version": "3.5.4"
  }
 },
 "nbformat": 4,
 "nbformat_minor": 2
}
