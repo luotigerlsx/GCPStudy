{
 "cells": [
  {
   "cell_type": "code",
   "execution_count": 13,
   "metadata": {},
   "outputs": [],
   "source": [
    "import tensorflow as tf\n",
    "import numpy as np"
   ]
  },
  {
   "cell_type": "code",
   "execution_count": 14,
   "metadata": {},
   "outputs": [],
   "source": [
    "def reset_graph():\n",
    "    tf.reset_default_graph()"
   ]
  },
  {
   "cell_type": "code",
   "execution_count": 15,
   "metadata": {},
   "outputs": [],
   "source": [
    "def single_rnn_cell( \n",
    "                 num_units,\n",
    "                 unit_type='block',\n",
    "                 forget_bias=1.0, \n",
    "                 dropout=0.0, \n",
    "                 mode=tf.contrib.learn.ModeKeys.TRAIN,\n",
    "                 residual_connection=False, \n",
    "                 device_str=None, \n",
    "                 residual_fn=None):\n",
    "    \n",
    "    \"\"\"Create an instance of a single RNN cell.\"\"\"\n",
    "    # dropout (= 1 - keep_prob) is set to 0 during eval and infer\n",
    "    dropout = dropout if mode == tf.contrib.learn.ModeKeys.TRAIN else 0.0\n",
    "\n",
    "    # Cell Type\n",
    "    if unit_type == \"lstm\":\n",
    "        single_cell = tf.contrib.rnn.BasicLSTMCell(\n",
    "            num_units,\n",
    "            forget_bias=forget_bias)\n",
    "    elif unit_type == \"block\":\n",
    "        single_cell = tf.contrib.rnn.LSTMBlockCell(\n",
    "            num_units,\n",
    "            forget_bias=forget_bias)\n",
    "    else:\n",
    "        raise ValueError(\"Unknown unit type %s!\" % unit_type)\n",
    "\n",
    "    # Dropout (= 1 - keep_prob)\n",
    "    if dropout > 0.0:\n",
    "        single_cell = tf.contrib.rnn.DropoutWrapper(\n",
    "            cell=single_cell, input_keep_prob=(1.0 - dropout))\n",
    "\n",
    "    # Residual\n",
    "    if residual_connection:\n",
    "        single_cell = tf.contrib.rnn.ResidualWrapper(\n",
    "            single_cell, residual_fn=residual_fn)\n",
    "\n",
    "    return single_cell"
   ]
  },
  {
   "cell_type": "code",
   "execution_count": null,
   "metadata": {},
   "outputs": [],
   "source": [
    "def build_encoder(self, source, cell_units, vocab_size, embed_size):\n",
    "    \"\"\"Build an encoder.\"\"\"\n",
    "\n",
    "    with tf.variable_scope(\"encoder\") as scope:\n",
    "        dtype = scope.dtype\n",
    "        \n",
    "        with tf.device(\"/cpu:0\"):\n",
    "            embedding_encoder = tf.get_variable(\"encoder_embedding\", [vocab_size, embed_size], tf.float32)\n",
    "        \n",
    "        # Look up embedding, emp_inp: [max_time, batch_size, num_units]\n",
    "        encoder_emb_inp = tf.nn.embedding_lookup(\n",
    "            embedding_encoder, source)\n",
    "\n",
    "        # Encoder_outputs: [max_time, batch_size, num_units]\n",
    "        cell = single_rnn_cell(cell_units)\n",
    "\n",
    "        encoder_outputs, encoder_state = tf.nn.dynamic_rnn(\n",
    "            cell,\n",
    "            encoder_emb_inp,\n",
    "            dtype=dtype,\n",
    "            sequence_length=iterator.source_sequence_length,\n",
    "            time_major=self.time_major,\n",
    "            swap_memory=True)\n",
    "\n",
    "    return encoder_outputs, encoder_state"
   ]
  },
  {
   "cell_type": "code",
   "execution_count": 23,
   "metadata": {},
   "outputs": [],
   "source": [
    "reset_graph()\n",
    "\n",
    "n_steps = 3\n",
    "n_inputs = 3\n",
    "n_neurons = 5\n",
    "\n",
    "X = tf.placeholder(tf.float32, [None, n_steps, n_inputs])\n",
    "\n",
    "basic_cell = single_rnn_cell(num_units=n_neurons,\n",
    "                             mode=tf.contrib.learn.ModeKeys.TRAIN,\n",
    "                             dropout=0.0)\n",
    "\n",
    "outputs, states = tf.nn.dynamic_rnn(basic_cell, X, dtype=tf.float32)\n",
    "\n",
    "init = tf.global_variables_initializer()"
   ]
  },
  {
   "cell_type": "code",
   "execution_count": 24,
   "metadata": {},
   "outputs": [
    {
     "name": "stdout",
     "output_type": "stream",
     "text": [
      "[[[-1.3479695e-02  6.7658715e-02 -3.0765137e-01 -5.4829609e-02\n",
      "    6.2276922e-02]\n",
      "  [ 2.9041064e-05  1.2992992e-01 -8.3218265e-01 -2.7392870e-01\n",
      "    5.0804899e-03]\n",
      "  [ 3.8163100e-05  1.7623809e-01 -9.2611718e-01 -3.5887638e-01\n",
      "    6.2055942e-03]]\n",
      "\n",
      " [[ 3.7190430e-03  1.5560420e-01 -6.5453416e-01 -1.0468533e-01\n",
      "    2.2801867e-02]\n",
      "  [ 1.6352600e-01 -1.1556581e-02 -2.9956692e-01 -1.1687529e-01\n",
      "    3.5942845e-02]\n",
      "  [ 2.9767742e-05  1.4950672e-02 -8.6729288e-01 -3.2105729e-01\n",
      "    3.5315128e-03]]\n",
      "\n",
      " [[ 1.2835364e-04  6.2459774e-02 -7.3214710e-01 -6.2867366e-02\n",
      "    3.1469280e-03]\n",
      "  [ 1.4442343e-03  1.7277467e-01 -8.4790742e-01 -4.0091449e-01\n",
      "    1.2158995e-02]\n",
      "  [ 4.0405059e-05  2.3465310e-01 -9.4015574e-01 -4.2132229e-01\n",
      "    4.6831854e-03]]\n",
      "\n",
      " [[ 7.0376499e-03  1.6003622e-01 -4.3922877e-03 -6.8581295e-01\n",
      "   -6.2636421e-03]\n",
      "  [ 5.9277855e-02  3.1569383e-01 -2.7005225e-01 -6.1199915e-01\n",
      "    1.9020710e-02]\n",
      "  [ 3.7701953e-05  4.7329491e-01 -8.1621540e-01 -5.7509887e-01\n",
      "    3.0519522e-03]]]\n",
      "(4, 3, 5)\n"
     ]
    }
   ],
   "source": [
    "X_batch = np.array([ \n",
    "    #t=0         t=1        t=2\n",
    "    [[0, 1, 2], [9, 8, 7], [9, 8, 7]], # instance 0 \n",
    "    [[3, 4, 5], [0, 0, 0], [9, 8, 7]], # instance 1 \n",
    "    [[6, 7, 8], [6, 5, 4], [9, 8, 7]], # instance 2 \n",
    "    [[9, 0, 1], [3, 2, 1], [9, 8, 7]], # instance 3\n",
    "])\n",
    "\n",
    "with tf.Session() as sess: \n",
    "    init.run()\n",
    "    output_evals = sess.run([outputs], feed_dict={X: X_batch})\n",
    "    print(output_evals[0])\n",
    "    print(output_evals[0].shape)"
   ]
  },
  {
   "cell_type": "code",
   "execution_count": null,
   "metadata": {},
   "outputs": [],
   "source": []
  }
 ],
 "metadata": {
  "kernelspec": {
   "display_name": "Python 3",
   "language": "python",
   "name": "python3"
  },
  "language_info": {
   "codemirror_mode": {
    "name": "ipython",
    "version": 3
   },
   "file_extension": ".py",
   "mimetype": "text/x-python",
   "name": "python",
   "nbconvert_exporter": "python",
   "pygments_lexer": "ipython3",
   "version": "3.5.4"
  }
 },
 "nbformat": 4,
 "nbformat_minor": 2
}
